{
 "cells": [
  {
   "cell_type": "markdown",
   "id": "b56350d7",
   "metadata": {},
   "source": [
    "<h1>Data Science Tools and Ecosystem </h1>"
   ]
  },
  {
   "cell_type": "markdown",
   "id": "669b0ed6",
   "metadata": {},
   "source": [
    "In this notebook, Data Science Tools and Ecosystem are summarized."
   ]
  },
  {
   "cell_type": "markdown",
   "id": "cfc8072a",
   "metadata": {},
   "source": [
    "<b>Objectives</b>:\n",
    "<ul>\n",
    "    <li>Popular languages for Data Science\n",
    "    <li>Common libraries used for Data Science\n",
    "    <li>Arimethic expressions in python\n",
    "    <li>Use of Jupyter notebook\n",
    "   \n",
    "</ul>"
   ]
  },
  {
   "cell_type": "markdown",
   "id": "6b4faf60",
   "metadata": {},
   "source": [
    "Some of the popular languages that Data Scientists use are:\n",
    "\n",
    "<ol>\n",
    "    <li> Python\n",
    "    <li> Java\n",
    "    <li> Julia\n",
    "    <li> R\n",
    "</ol>        "
   ]
  },
  {
   "cell_type": "markdown",
   "id": "1146b916",
   "metadata": {},
   "source": [
    "Some of the commonly used libraries used by Data Scientists include:\n",
    "<ol>\n",
    "    <li> Numpy\n",
    "    <li> Pandas\n",
    "    <li> Matplotlib\n",
    "    <li> seaborn\n",
    "</ol>   "
   ]
  },
  {
   "cell_type": "markdown",
   "id": "35f3028b",
   "metadata": {},
   "source": [
    "| Data Science Tools | \n",
    "|:--------:|\n",
    "|  Git   |\n",
    "|  Jupyter lab   |\n",
    "|  Hadoop |"
   ]
  },
  {
   "cell_type": "markdown",
   "id": "2bc8f652",
   "metadata": {},
   "source": [
    "<h3> Below are a few examples of evaluating arithmetic expressions in Python </h3>"
   ]
  },
  {
   "cell_type": "code",
   "execution_count": 3,
   "id": "2ae9b9f7",
   "metadata": {},
   "outputs": [
    {
     "data": {
      "text/plain": [
       "17"
      ]
     },
     "execution_count": 3,
     "metadata": {},
     "output_type": "execute_result"
    }
   ],
   "source": [
    "#This a simple arithmetic expression to mutiply then add integers\n",
    "(3*4)+5\n"
   ]
  },
  {
   "cell_type": "code",
   "execution_count": 5,
   "id": "9f9822a7",
   "metadata": {},
   "outputs": [
    {
     "data": {
      "text/plain": [
       "3.3333333333333335"
      ]
     },
     "execution_count": 5,
     "metadata": {},
     "output_type": "execute_result"
    }
   ],
   "source": [
    " #This will convert 200 minutes to hours by diving by 60\n",
    "200/60"
   ]
  },
  {
   "cell_type": "markdown",
   "id": "54831633",
   "metadata": {},
   "source": [
    "<h2>Author</h2>\n",
    "Andrea Lorenzana"
   ]
  },
  {
   "cell_type": "code",
   "execution_count": null,
   "id": "0dc54809",
   "metadata": {},
   "outputs": [],
   "source": []
  }
 ],
 "metadata": {
  "kernelspec": {
   "display_name": "Python 3 (ipykernel)",
   "language": "python",
   "name": "python3"
  },
  "language_info": {
   "codemirror_mode": {
    "name": "ipython",
    "version": 3
   },
   "file_extension": ".py",
   "mimetype": "text/x-python",
   "name": "python",
   "nbconvert_exporter": "python",
   "pygments_lexer": "ipython3",
   "version": "3.11.5"
  }
 },
 "nbformat": 4,
 "nbformat_minor": 5
}
